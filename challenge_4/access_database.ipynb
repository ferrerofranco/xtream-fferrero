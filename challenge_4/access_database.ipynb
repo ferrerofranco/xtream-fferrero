{
 "cells": [
  {
   "cell_type": "code",
   "execution_count": 3,
   "metadata": {},
   "outputs": [
    {
     "data": {
      "text/plain": [
       "'/Users/francoferrero/Documents/Repos/xtream-fferrero/challenge_4'"
      ]
     },
     "execution_count": 3,
     "metadata": {},
     "output_type": "execute_result"
    }
   ],
   "source": [
    "import os,sys\n",
    "currentdir = os.path.abspath(os.getcwd())\n",
    "currentdir"
   ]
  },
  {
   "cell_type": "code",
   "execution_count": 4,
   "metadata": {},
   "outputs": [],
   "source": [
    "from os.path import join\n",
    "import sqlite3\n",
    "\n",
    "sqlt3_connection = sqlite3.connect(join(currentdir,'mock_database','zap_inc.db'))"
   ]
  },
  {
   "cell_type": "code",
   "execution_count": 5,
   "metadata": {},
   "outputs": [],
   "source": [
    "cursor = sqlt3_connection.cursor()"
   ]
  },
  {
   "cell_type": "code",
   "execution_count": 7,
   "metadata": {},
   "outputs": [
    {
     "name": "stdout",
     "output_type": "stream",
     "text": [
      "(1, 'mock_bad_model', 28.32, 0.1, '2022-01-01', None)\n",
      "(2, 'test_model_1', 19.37910851093617, -1.0598739410677962, '2024-01-17', None)\n"
     ]
    }
   ],
   "source": [
    "for row in cursor.execute('''SELECT * FROM models'''):\n",
    "    print(row)"
   ]
  },
  {
   "cell_type": "code",
   "execution_count": 10,
   "metadata": {},
   "outputs": [
    {
     "name": "stdout",
     "output_type": "stream",
     "text": [
      "(2, '2024-01-17', '2019-01-01 00:00:00', 862928.8681393821)\n",
      "(2, '2024-01-17', '2019-01-02 00:00:00', 923764.1002358953)\n",
      "(2, '2024-01-17', '2019-01-03 00:00:00', 1075466.815021255)\n",
      "(2, '2024-01-17', '2019-01-04 00:00:00', 1038062.4061715251)\n",
      "(2, '2024-01-17', '2019-01-05 00:00:00', 917601.4299625709)\n",
      "(2, '2024-01-17', '2019-01-06 00:00:00', 793743.1614539335)\n",
      "(2, '2024-01-17', '2019-01-07 00:00:00', 931770.8464397206)\n",
      "(2, '2024-01-17', '2019-01-08 00:00:00', 630354.2117076544)\n",
      "(2, '2024-01-17', '2019-01-09 00:00:00', 967778.6704403647)\n",
      "(2, '2024-01-17', '2019-01-10 00:00:00', 884504.7980382419)\n"
     ]
    }
   ],
   "source": [
    "for row in cursor.execute('''SELECT * FROM forecasts LIMIT 10'''):\n",
    "    print(row)"
   ]
  },
  {
   "cell_type": "code",
   "execution_count": 11,
   "metadata": {},
   "outputs": [],
   "source": [
    "for row in cursor.execute('''SELECT * FROM alarms LIMIT 10'''):\n",
    "    print(row)"
   ]
  },
  {
   "cell_type": "code",
   "execution_count": null,
   "metadata": {},
   "outputs": [],
   "source": []
  }
 ],
 "metadata": {
  "kernelspec": {
   "display_name": "xtream_main",
   "language": "python",
   "name": "xtream_main"
  },
  "language_info": {
   "codemirror_mode": {
    "name": "ipython",
    "version": 3
   },
   "file_extension": ".py",
   "mimetype": "text/x-python",
   "name": "python",
   "nbconvert_exporter": "python",
   "pygments_lexer": "ipython3",
   "version": "3.9.16"
  }
 },
 "nbformat": 4,
 "nbformat_minor": 2
}
